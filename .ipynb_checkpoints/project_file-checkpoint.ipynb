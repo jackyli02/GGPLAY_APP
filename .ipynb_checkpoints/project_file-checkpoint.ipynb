{
 "cells": [
  {
   "cell_type": "markdown",
   "metadata": {},
   "source": [
    "# Comprehensive Analysis of the Android App market on Google Play"
   ]
  },
  {
   "cell_type": "markdown",
   "metadata": {},
   "source": [
    "Files:  \n",
    "`app.csv`:  \n",
    "`user.csv`:"
   ]
  },
  {
   "cell_type": "code",
   "execution_count": 1,
   "metadata": {},
   "outputs": [],
   "source": [
    "import pandas as pd\n",
    "import matplotlib.pyplot as plt\n",
    "import seaborn as sns"
   ]
  },
  {
   "cell_type": "markdown",
   "metadata": {},
   "source": [
    "## Data Import and Cleaning"
   ]
  },
  {
   "cell_type": "code",
   "execution_count": 2,
   "metadata": {},
   "outputs": [
    {
     "name": "stdout",
     "output_type": "stream",
     "text": [
      "                                                     App             Category  \\\n",
      "0         Photo Editor & Candy Camera & Grid & ScrapBook       ART_AND_DESIGN   \n",
      "1                                    Coloring book moana       ART_AND_DESIGN   \n",
      "2      U Launcher Lite – FREE Live Cool Themes, Hide ...       ART_AND_DESIGN   \n",
      "3                                  Sketch - Draw & Paint       ART_AND_DESIGN   \n",
      "4                  Pixel Draw - Number Art Coloring Book       ART_AND_DESIGN   \n",
      "...                                                  ...                  ...   \n",
      "10836                                   Sya9a Maroc - FR               FAMILY   \n",
      "10837                   Fr. Mike Schmitz Audio Teachings               FAMILY   \n",
      "10838                             Parkinson Exercices FR              MEDICAL   \n",
      "10839                      The SCP Foundation DB fr nn5n  BOOKS_AND_REFERENCE   \n",
      "10840      iHoroscope - 2018 Daily Horoscope & Astrology            LIFESTYLE   \n",
      "\n",
      "       Rating Reviews                Size     Installs  Type Price  \\\n",
      "0         4.1     159                 19M      10,000+  Free     0   \n",
      "1         3.9     967                 14M     500,000+  Free     0   \n",
      "2         4.7   87510                8.7M   5,000,000+  Free     0   \n",
      "3         4.5  215644                 25M  50,000,000+  Free     0   \n",
      "4         4.3     967                2.8M     100,000+  Free     0   \n",
      "...       ...     ...                 ...          ...   ...   ...   \n",
      "10836     4.5      38                 53M       5,000+  Free     0   \n",
      "10837     5.0       4                3.6M         100+  Free     0   \n",
      "10838     NaN       3                9.5M       1,000+  Free     0   \n",
      "10839     4.5     114  Varies with device       1,000+  Free     0   \n",
      "10840     4.5  398307                 19M  10,000,000+  Free     0   \n",
      "\n",
      "      Content Rating                     Genres      Last Updated  \\\n",
      "0           Everyone               Art & Design   January 7, 2018   \n",
      "1           Everyone  Art & Design;Pretend Play  January 15, 2018   \n",
      "2           Everyone               Art & Design    August 1, 2018   \n",
      "3               Teen               Art & Design      June 8, 2018   \n",
      "4           Everyone    Art & Design;Creativity     June 20, 2018   \n",
      "...              ...                        ...               ...   \n",
      "10836       Everyone                  Education     July 25, 2017   \n",
      "10837       Everyone                  Education      July 6, 2018   \n",
      "10838       Everyone                    Medical  January 20, 2017   \n",
      "10839     Mature 17+          Books & Reference  January 19, 2015   \n",
      "10840       Everyone                  Lifestyle     July 25, 2018   \n",
      "\n",
      "              Current Ver         Android Ver  \n",
      "0                   1.0.0        4.0.3 and up  \n",
      "1                   2.0.0        4.0.3 and up  \n",
      "2                   1.2.4        4.0.3 and up  \n",
      "3      Varies with device          4.2 and up  \n",
      "4                     1.1          4.4 and up  \n",
      "...                   ...                 ...  \n",
      "10836                1.48          4.1 and up  \n",
      "10837                 1.0          4.1 and up  \n",
      "10838                 1.0          2.2 and up  \n",
      "10839  Varies with device  Varies with device  \n",
      "10840  Varies with device  Varies with device  \n",
      "\n",
      "[10358 rows x 13 columns]\n"
     ]
    }
   ],
   "source": [
    "apps_raw = pd.read_csv('app.csv')\n",
    "apps = apps_raw.drop_duplicates()\n",
    "print(apps)"
   ]
  },
  {
   "cell_type": "code",
   "execution_count": 3,
   "metadata": {},
   "outputs": [
    {
     "name": "stdout",
     "output_type": "stream",
     "text": [
      "234       $4.99\n",
      "235       $4.99\n",
      "427       $3.99\n",
      "476       $3.99\n",
      "477       $6.99\n",
      "          ...  \n",
      "10735     $0.99\n",
      "10760     $7.99\n",
      "10782    $16.99\n",
      "10785     $1.20\n",
      "10798     $1.04\n",
      "Name: Price, Length: 766, dtype: object\n"
     ]
    }
   ],
   "source": [
    "#convert the Price column into numeric values\n",
    "#check to see the format of prices\n",
    "idx0 = apps['Price'] != '0' \n",
    "print(apps['Price'][idx0])"
   ]
  },
  {
   "cell_type": "code",
   "execution_count": 4,
   "metadata": {},
   "outputs": [
    {
     "name": "stdout",
     "output_type": "stream",
     "text": [
      "10472    Everyone\n",
      "Name: Price, dtype: object\n"
     ]
    }
   ],
   "source": [
    "#see if there's any mistakes in the values\n",
    "idx1 = apps['Price'].str.contains('\\$|0|1|2|3|4|5|6|7|8|9', regex = True)\n",
    "print(apps['Price'][~idx1])\n",
    "#row number 10472 does not have the right format for prices, so we'll remove it\n",
    "apps = apps.drop(10472, axis = 0)"
   ]
  },
  {
   "cell_type": "code",
   "execution_count": 5,
   "metadata": {},
   "outputs": [],
   "source": [
    "#convert the price to numeric values\n",
    "for i in apps['Price'][idx0].index:\n",
    "    apps.loc[i, 'Price'] = apps.loc[i, 'Price'].replace('$', '')\n",
    "apps['Price'] = pd.to_numeric(apps['Price'])"
   ]
  },
  {
   "cell_type": "markdown",
   "metadata": {},
   "source": [
    "now we clean up the install numbers"
   ]
  },
  {
   "cell_type": "code",
   "execution_count": 6,
   "metadata": {},
   "outputs": [],
   "source": [
    "repl_char = ['+', ',']\n",
    "for char in repl_char:\n",
    "    apps['Installs'] = apps['Installs'].astype(str).str.replace(char, '')\n",
    "apps['Installs'] = pd.to_numeric(apps['Installs'])"
   ]
  },
  {
   "cell_type": "markdown",
   "metadata": {},
   "source": [
    "## Look at the app categories"
   ]
  },
  {
   "cell_type": "code",
   "execution_count": 7,
   "metadata": {},
   "outputs": [
    {
     "data": {
      "text/plain": [
       "33"
      ]
     },
     "execution_count": 7,
     "metadata": {},
     "output_type": "execute_result"
    }
   ],
   "source": [
    "len(apps['Category'].unique())"
   ]
  },
  {
   "cell_type": "markdown",
   "metadata": {},
   "source": [
    "There are 33 categories in total, now let's look at their popularity"
   ]
  },
  {
   "cell_type": "code",
   "execution_count": 8,
   "metadata": {},
   "outputs": [
    {
     "name": "stdout",
     "output_type": "stream",
     "text": [
      "FAMILY      1943\n",
      "GAME        1121\n",
      "TOOLS        843\n",
      "BUSINESS     427\n",
      "MEDICAL      408\n",
      "Name: Category, dtype: int64\n",
      "ART_AND_DESIGN    65\n",
      "EVENTS            64\n",
      "COMICS            60\n",
      "PARENTING         60\n",
      "BEAUTY            53\n",
      "Name: Category, dtype: int64\n"
     ]
    }
   ],
   "source": [
    "print(apps['Category'].value_counts()[:5])\n",
    "print(apps['Category'].value_counts()[-5:])"
   ]
  },
  {
   "cell_type": "markdown",
   "metadata": {},
   "source": [
    "The most and least popular categories by the number of apps are shown above"
   ]
  },
  {
   "cell_type": "code",
   "execution_count": 9,
   "metadata": {},
   "outputs": [
    {
     "name": "stdout",
     "output_type": "stream",
     "text": [
      "Category\n",
      "GAME             31544024415\n",
      "COMMUNICATION    24152276251\n",
      "SOCIAL           12513867902\n",
      "PRODUCTIVITY     12463091369\n",
      "TOOLS            11452771915\n",
      "Name: Installs, dtype: int64\n",
      "Category\n",
      "AUTO_AND_VEHICLES    53130211\n",
      "MEDICAL              42204177\n",
      "PARENTING            31521110\n",
      "BEAUTY               27197050\n",
      "EVENTS               15973161\n",
      "Name: Installs, dtype: int64\n"
     ]
    }
   ],
   "source": [
    "cat_installs = apps.groupby(['Category']).sum()['Installs'].sort_values(ascending = False)\n",
    "print(cat_installs[:5])\n",
    "print(cat_installs[-5:])"
   ]
  },
  {
   "cell_type": "markdown",
   "metadata": {},
   "source": [
    "The most and least popular categories by the number of installs are shown above"
   ]
  },
  {
   "cell_type": "markdown",
   "metadata": {},
   "source": [
    "## Look at the ratings of the apps"
   ]
  },
  {
   "cell_type": "markdown",
   "metadata": {},
   "source": [
    "First, check to see if there's any Nan values"
   ]
  },
  {
   "cell_type": "code",
   "execution_count": 10,
   "metadata": {},
   "outputs": [
    {
     "data": {
      "text/plain": [
       "1465"
      ]
     },
     "execution_count": 10,
     "metadata": {},
     "output_type": "execute_result"
    }
   ],
   "source": [
    "sum(apps['Rating'].isnull())"
   ]
  },
  {
   "cell_type": "markdown",
   "metadata": {},
   "source": [
    "There are 1465 Nan values."
   ]
  },
  {
   "cell_type": "code",
   "execution_count": 11,
   "metadata": {},
   "outputs": [
    {
     "data": {
      "text/plain": [
       "<matplotlib.axes._subplots.AxesSubplot at 0x1a15a97390>"
      ]
     },
     "execution_count": 11,
     "metadata": {},
     "output_type": "execute_result"
    },
    {
     "data": {
      "image/png": "[encoded data removed]",
      "text/plain": [
       "<Figure size 432x288 with 1 Axes>"
      ]
     },
     "metadata": {
      "needs_background": "light"
     },
     "output_type": "display_data"
    }
   ],
   "source": [
    "sns.distplot(apps['Rating'].dropna())"
   ]
  },
  {
   "cell_type": "markdown",
   "metadata": {},
   "source": [
    "We can tell that the ratings have a unimodal, left-skewed distribution. This means that the majority of the apps are higher-rated while only a few are rated lower."
   ]
  },
  {
   "cell_type": "markdown",
   "metadata": {},
   "source": [
    "## Variables that affect the ratings"
   ]
  },
  {
   "cell_type": "code",
   "execution_count": 12,
   "metadata": {},
   "outputs": [
    {
     "data": {
      "image/png": "[encoded data removed]",
      "text/plain": [
       "<Figure size 432x432 with 3 Axes>"
      ]
     },
     "metadata": {
      "needs_background": "light"
     },
     "output_type": "display_data"
    },
    {
     "data": {
      "image/png": "[encoded data removed]",
      "text/plain": [
       "<Figure size 432x432 with 3 Axes>"
      ]
     },
     "metadata": {
      "needs_background": "light"
     },
     "output_type": "display_data"
    }
   ],
   "source": [
    "apps_notnull = apps[(~apps['Rating'].isnull()) & (~apps['Size'].isnull())]\n",
    "\n",
    "# Subset for categories with at least 250 apps\n",
    "large_categories = apps_notnull.groupby(['Category']).filter(lambda x: len(x) >= 250).reset_index()\n",
    "\n",
    "#Filter sizes to exclude those varies with device and convert it into numeric\n",
    "plt_idx = large_categories['Size'] != 'Varies with device'\n",
    "size_fxed = large_categories['Size'][plt_idx]\n",
    "size_fxed = size_fxed.astype(str).str.replace('M', '')\n",
    "size_fxed = size_fxed.astype(str).str.replace('k', '')\n",
    "size_fxed = pd.to_numeric(size_fxed)\n",
    "rtg = large_categories['Rating'][plt_idx]\n",
    "\n",
    "plt1 = sns.jointplot(x = size_fxed, y = rtg)\n",
    "\n",
    "# Subset apps whose 'Type' is 'Paid'\n",
    "paid_apps = apps_notnull[apps_notnull['Type'] == 'Paid']\n",
    "\n",
    "plt2 = sns.jointplot(x = paid_apps['Price'], y = paid_apps['Rating'])"
   ]
  },
  {
   "cell_type": "markdown",
   "metadata": {},
   "source": [
    "We found that the majority of higher-rated apps (over 4) have a size smaller than 200M and a price under $20."
   ]
  },
  {
   "cell_type": "markdown",
   "metadata": {},
   "source": [
    "## Prices and categories"
   ]
  },
  {
   "cell_type": "code",
   "execution_count": 13,
   "metadata": {},
   "outputs": [
    {
     "data": {
      "text/html": [
       "<div>\n",
       "<style scoped>\n",
       "    .dataframe tbody tr th:only-of-type {\n",
       "        vertical-align: middle;\n",
       "    }\n",
       "\n",
       "    .dataframe tbody tr th {\n",
       "        vertical-align: top;\n",
       "    }\n",
       "\n",
       "    .dataframe thead th {\n",
       "        text-align: right;\n",
       "    }\n",
       "</style>\n",
       "<table border=\"1\" class=\"dataframe\">\n",
       "  <thead>\n",
       "    <tr style=\"text-align: right;\">\n",
       "      <th></th>\n",
       "      <th>Category</th>\n",
       "      <th>App</th>\n",
       "      <th>Price</th>\n",
       "    </tr>\n",
       "  </thead>\n",
       "  <tbody>\n",
       "    <tr>\n",
       "      <td>4197</td>\n",
       "      <td>FAMILY</td>\n",
       "      <td>most expensive app (H)</td>\n",
       "      <td>399.99</td>\n",
       "    </tr>\n",
       "    <tr>\n",
       "      <td>4362</td>\n",
       "      <td>LIFESTYLE</td>\n",
       "      <td>💎 I'm rich</td>\n",
       "      <td>399.99</td>\n",
       "    </tr>\n",
       "    <tr>\n",
       "      <td>4367</td>\n",
       "      <td>LIFESTYLE</td>\n",
       "      <td>I'm Rich - Trump Edition</td>\n",
       "      <td>400.00</td>\n",
       "    </tr>\n",
       "    <tr>\n",
       "      <td>5351</td>\n",
       "      <td>LIFESTYLE</td>\n",
       "      <td>I am rich</td>\n",
       "      <td>399.99</td>\n",
       "    </tr>\n",
       "    <tr>\n",
       "      <td>5354</td>\n",
       "      <td>FAMILY</td>\n",
       "      <td>I am Rich Plus</td>\n",
       "      <td>399.99</td>\n",
       "    </tr>\n",
       "    <tr>\n",
       "      <td>5355</td>\n",
       "      <td>LIFESTYLE</td>\n",
       "      <td>I am rich VIP</td>\n",
       "      <td>299.99</td>\n",
       "    </tr>\n",
       "    <tr>\n",
       "      <td>5356</td>\n",
       "      <td>FINANCE</td>\n",
       "      <td>I Am Rich Premium</td>\n",
       "      <td>399.99</td>\n",
       "    </tr>\n",
       "    <tr>\n",
       "      <td>5357</td>\n",
       "      <td>LIFESTYLE</td>\n",
       "      <td>I am extremely Rich</td>\n",
       "      <td>379.99</td>\n",
       "    </tr>\n",
       "    <tr>\n",
       "      <td>5358</td>\n",
       "      <td>FINANCE</td>\n",
       "      <td>I am Rich!</td>\n",
       "      <td>399.99</td>\n",
       "    </tr>\n",
       "    <tr>\n",
       "      <td>5359</td>\n",
       "      <td>FINANCE</td>\n",
       "      <td>I am rich(premium)</td>\n",
       "      <td>399.99</td>\n",
       "    </tr>\n",
       "    <tr>\n",
       "      <td>5362</td>\n",
       "      <td>FAMILY</td>\n",
       "      <td>I Am Rich Pro</td>\n",
       "      <td>399.99</td>\n",
       "    </tr>\n",
       "    <tr>\n",
       "      <td>5364</td>\n",
       "      <td>FINANCE</td>\n",
       "      <td>I am rich (Most expensive app)</td>\n",
       "      <td>399.99</td>\n",
       "    </tr>\n",
       "    <tr>\n",
       "      <td>5366</td>\n",
       "      <td>FAMILY</td>\n",
       "      <td>I Am Rich</td>\n",
       "      <td>389.99</td>\n",
       "    </tr>\n",
       "    <tr>\n",
       "      <td>5369</td>\n",
       "      <td>FINANCE</td>\n",
       "      <td>I am Rich</td>\n",
       "      <td>399.99</td>\n",
       "    </tr>\n",
       "    <tr>\n",
       "      <td>5373</td>\n",
       "      <td>FINANCE</td>\n",
       "      <td>I AM RICH PRO PLUS</td>\n",
       "      <td>399.99</td>\n",
       "    </tr>\n",
       "    <tr>\n",
       "      <td>9719</td>\n",
       "      <td>MEDICAL</td>\n",
       "      <td>EP Cook Book</td>\n",
       "      <td>200.00</td>\n",
       "    </tr>\n",
       "    <tr>\n",
       "      <td>9917</td>\n",
       "      <td>FINANCE</td>\n",
       "      <td>Eu Sou Rico</td>\n",
       "      <td>394.99</td>\n",
       "    </tr>\n",
       "    <tr>\n",
       "      <td>9934</td>\n",
       "      <td>LIFESTYLE</td>\n",
       "      <td>I'm Rich/Eu sou Rico/أنا غني/我很有錢</td>\n",
       "      <td>399.99</td>\n",
       "    </tr>\n",
       "  </tbody>\n",
       "</table>\n",
       "</div>"
      ],
      "text/plain": [
       "       Category                                App   Price\n",
       "4197     FAMILY             most expensive app (H)  399.99\n",
       "4362  LIFESTYLE                         💎 I'm rich  399.99\n",
       "4367  LIFESTYLE           I'm Rich - Trump Edition  400.00\n",
       "5351  LIFESTYLE                          I am rich  399.99\n",
       "5354     FAMILY                     I am Rich Plus  399.99\n",
       "5355  LIFESTYLE                      I am rich VIP  299.99\n",
       "5356    FINANCE                  I Am Rich Premium  399.99\n",
       "5357  LIFESTYLE                I am extremely Rich  379.99\n",
       "5358    FINANCE                         I am Rich!  399.99\n",
       "5359    FINANCE                 I am rich(premium)  399.99\n",
       "5362     FAMILY                      I Am Rich Pro  399.99\n",
       "5364    FINANCE     I am rich (Most expensive app)  399.99\n",
       "5366     FAMILY                          I Am Rich  389.99\n",
       "5369    FINANCE                          I am Rich  399.99\n",
       "5373    FINANCE                 I AM RICH PRO PLUS  399.99\n",
       "9719    MEDICAL                       EP Cook Book  200.00\n",
       "9917    FINANCE                        Eu Sou Rico  394.99\n",
       "9934  LIFESTYLE  I'm Rich/Eu sou Rico/أنا غني/我很有錢  399.99"
      ]
     },
     "execution_count": 13,
     "metadata": {},
     "output_type": "execute_result"
    },
    {
     "data": {
      "image/png": "[encoded data removed]",
      "text/plain": [
       "<Figure size 1080x576 with 1 Axes>"
      ]
     },
     "metadata": {
      "needs_background": "light"
     },
     "output_type": "display_data"
    }
   ],
   "source": [
    "fig, ax = plt.subplots()\n",
    "fig.set_size_inches(15, 8)\n",
    "\n",
    "# Select a few popular app categories\n",
    "popular_app_cats = apps[apps.Category.isin(['GAME', 'FAMILY', 'PHOTOGRAPHY',\n",
    "                                            'MEDICAL', 'TOOLS', 'FINANCE',\n",
    "                                            'LIFESTYLE','BUSINESS'])]\n",
    "\n",
    "# Examine the price trend by plotting Price vs Category\n",
    "ax = sns.stripplot(x = popular_app_cats['Price'], y = popular_app_cats['Category'], jitter=True, linewidth=1)\n",
    "ax.set_title('App pricing trend across categories')\n",
    "\n",
    "# Apps whose Price is greater than 150\n",
    "apps_above_150 = popular_app_cats[['Category', 'App', 'Price']][popular_app_cats['Price'] > 150]\n",
    "apps_above_150.head(50)"
   ]
  },
  {
   "cell_type": "markdown",
   "metadata": {},
   "source": [
    "We can see that most of the extremely expensive apps (over 200 dollars)are meaningless, so we will not consider them. Medical looks like the category with the most expensive apps, which makes sense since some of these apps might not meant to be used for mass consumption but are rather specialized. Also, as we might expect, almost all of the apps in the game category is under 20 dollars."
   ]
  },
  {
   "cell_type": "markdown",
   "metadata": {},
   "source": [
    "## User reviews"
   ]
  },
  {
   "cell_type": "markdown",
   "metadata": {},
   "source": [
    "Last but not least, we are going to create a plot to visualize the general trend of the users' reviews for paid and free apps."
   ]
  },
  {
   "cell_type": "code",
   "execution_count": 14,
   "metadata": {},
   "outputs": [
    {
     "data": {
      "text/plain": [
       "Text(0.5, 1.0, 'Sentiment Polarity Distribution')"
      ]
     },
     "execution_count": 14,
     "metadata": {},
     "output_type": "execute_result"
    },
    {
     "data": {
      "image/png": "[encoded data removed]",
      "text/plain": [
       "<Figure size 792x576 with 1 Axes>"
      ]
     },
     "metadata": {},
     "output_type": "display_data"
    }
   ],
   "source": [
    "reviews_df = pd.read_csv('user.csv')\n",
    "\n",
    "merged_df = pd.merge(apps, reviews_df, on = \"App\", how = \"inner\")\n",
    "merged_df = merged_df.dropna(subset=['Sentiment', 'Translated_Review'])\n",
    "\n",
    "sns.set_style('ticks')\n",
    "fig, ax = plt.subplots()\n",
    "fig.set_size_inches(11, 8)\n",
    "\n",
    "ax = sns.boxplot(x = 'Type', y = 'Sentiment_Polarity', data=merged_df)\n",
    "ax.set_title('Sentiment Polarity Distribution')"
   ]
  },
  {
   "cell_type": "markdown",
   "metadata": {},
   "source": [
    "As we can see, free apps have more outliers in the negative y axis, meaning that they receive more negative reviews. Also, the median and the quartiles for paid app all have somewhat higher value than free apps, which might be due to highter quality of paid apps."
   ]
  }
 ],
 "metadata": {
  "kernelspec": {
   "display_name": "Python 3",
   "language": "python",
   "name": "python3"
  },
  "language_info": {
   "codemirror_mode": {
    "name": "ipython",
    "version": 3
   },
   "file_extension": ".py",
   "mimetype": "text/x-python",
   "name": "python",
   "nbconvert_exporter": "python",
   "pygments_lexer": "ipython3",
   "version": "3.7.4"
  }
 },
 "nbformat": 4,
 "nbformat_minor": 2
}
